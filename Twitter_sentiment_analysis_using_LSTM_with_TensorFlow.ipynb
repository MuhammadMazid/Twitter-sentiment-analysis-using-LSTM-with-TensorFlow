{
  "nbformat": 4,
  "nbformat_minor": 0,
  "metadata": {
    "colab": {
      "provenance": [],
      "authorship_tag": "ABX9TyN0VJZnDvZaaAbS/3q/x848",
      "include_colab_link": true
    },
    "kernelspec": {
      "name": "python3",
      "display_name": "Python 3"
    },
    "language_info": {
      "name": "python"
    }
  },
  "cells": [
    {
      "cell_type": "markdown",
      "metadata": {
        "id": "view-in-github",
        "colab_type": "text"
      },
      "source": [
        "<a href=\"https://colab.research.google.com/github/MuhammadMazid/Twitter-sentiment-analysis-using-LSTM-with-TensorFlow/blob/main/Twitter_sentiment_analysis_using_LSTM_with_TensorFlow.ipynb\" target=\"_parent\"><img src=\"https://colab.research.google.com/assets/colab-badge.svg\" alt=\"Open In Colab\"/></a>"
      ]
    },
    {
      "cell_type": "code",
      "execution_count": null,
      "metadata": {
        "id": "3eGSTp3lJpaJ"
      },
      "outputs": [],
      "source": [
        "import tensorflow as tf\n",
        "from tensorflow import keras\n",
        "import numpy as np\n",
        "import pandas as pd\n",
        "import os\n",
        "import matplotlib.pyplot as plt\n"
      ]
    },
    {
      "cell_type": "code",
      "source": [
        "base_dir = 'C:\\\\Users\\\\muham\\\\Desktop\\\\'\n",
        "\n",
        "df = pd.read_csv(base_dir + \"twitter.csv\")\n",
        "\n",
        "df.head()"
      ],
      "metadata": {
        "colab": {
          "base_uri": "https://localhost:8080/",
          "height": 206
        },
        "id": "gBbpcMrsSbEW",
        "outputId": "c964b6fe-3a9d-4aa9-84b5-11637c031dc7"
      },
      "execution_count": null,
      "outputs": [
        {
          "output_type": "execute_result",
          "data": {
            "text/plain": [
              "   id keyword location                                               text  target\n",
              "0   1     NaN      NaN  Our Deeds are the Reason of this #earthquake M...       1\n",
              "1   4     NaN      NaN             Forest fire near La Ronge Sask. Canada       1\n",
              "2   5     NaN      NaN  All residents asked to 'shelter in place' are ...       1\n",
              "3   6     NaN      NaN  13,000 people receive #wildfires evacuation or...       1\n",
              "4   7     NaN      NaN  Just got sent this photo from Ruby #Alaska as ...       1"
            ],
            "text/html": [
              "<div>\n",
              "<style scoped>\n",
              "    .dataframe tbody tr th:only-of-type {\n",
              "        vertical-align: middle;\n",
              "    }\n",
              "\n",
              "    .dataframe tbody tr th {\n",
              "        vertical-align: top;\n",
              "    }\n",
              "\n",
              "    .dataframe thead th {\n",
              "        text-align: right;\n",
              "    }\n",
              "</style>\n",
              "<table border=\"1\" class=\"dataframe\">\n",
              "  <thead>\n",
              "    <tr style=\"text-align: right;\">\n",
              "      <th></th>\n",
              "      <th>id</th>\n",
              "      <th>keyword</th>\n",
              "      <th>location</th>\n",
              "      <th>text</th>\n",
              "      <th>target</th>\n",
              "    </tr>\n",
              "  </thead>\n",
              "  <tbody>\n",
              "    <tr>\n",
              "      <th>0</th>\n",
              "      <td>1</td>\n",
              "      <td>NaN</td>\n",
              "      <td>NaN</td>\n",
              "      <td>Our Deeds are the Reason of this #earthquake M...</td>\n",
              "      <td>1</td>\n",
              "    </tr>\n",
              "    <tr>\n",
              "      <th>1</th>\n",
              "      <td>4</td>\n",
              "      <td>NaN</td>\n",
              "      <td>NaN</td>\n",
              "      <td>Forest fire near La Ronge Sask. Canada</td>\n",
              "      <td>1</td>\n",
              "    </tr>\n",
              "    <tr>\n",
              "      <th>2</th>\n",
              "      <td>5</td>\n",
              "      <td>NaN</td>\n",
              "      <td>NaN</td>\n",
              "      <td>All residents asked to 'shelter in place' are ...</td>\n",
              "      <td>1</td>\n",
              "    </tr>\n",
              "    <tr>\n",
              "      <th>3</th>\n",
              "      <td>6</td>\n",
              "      <td>NaN</td>\n",
              "      <td>NaN</td>\n",
              "      <td>13,000 people receive #wildfires evacuation or...</td>\n",
              "      <td>1</td>\n",
              "    </tr>\n",
              "    <tr>\n",
              "      <th>4</th>\n",
              "      <td>7</td>\n",
              "      <td>NaN</td>\n",
              "      <td>NaN</td>\n",
              "      <td>Just got sent this photo from Ruby #Alaska as ...</td>\n",
              "      <td>1</td>\n",
              "    </tr>\n",
              "  </tbody>\n",
              "</table>\n",
              "</div>"
            ]
          },
          "metadata": {},
          "execution_count": 3
        }
      ]
    },
    {
      "cell_type": "code",
      "source": [
        "df.shape\n"
      ],
      "metadata": {
        "colab": {
          "base_uri": "https://localhost:8080/"
        },
        "id": "3Yma-Ey8TGrB",
        "outputId": "e7759221-f0bd-4060-ccde-df05b6a43a82"
      },
      "execution_count": null,
      "outputs": [
        {
          "output_type": "execute_result",
          "data": {
            "text/plain": [
              "(7613, 5)"
            ]
          },
          "metadata": {},
          "execution_count": 4
        }
      ]
    },
    {
      "cell_type": "code",
      "source": [
        "target_1 = (df.target == 1).sum()\n",
        "target_0 = (df.target == 0).sum()\n",
        "\n",
        "fig = plt.figure(figsize = (10, 5))\n",
        "\n",
        "# creating the bar plot\n",
        "plt.bar([str(target_1), str(target_0)],[target_1, target_0])\n",
        "\n",
        "plt.show()\n"
      ],
      "metadata": {
        "colab": {
          "base_uri": "https://localhost:8080/",
          "height": 445
        },
        "id": "1Jozs6KJTPvs",
        "outputId": "6c8710e1-da5f-466c-df7b-103f75d12b07"
      },
      "execution_count": null,
      "outputs": [
        {
          "output_type": "display_data",
          "data": {
            "text/plain": [
              "<Figure size 1000x500 with 1 Axes>"
            ],
            "image/png": "[encoded data removed]"
          },
          "metadata": {}
        }
      ]
    },
    {
      "cell_type": "code",
      "source": [
        "# Preprocessing\n",
        "import re\n",
        "import string\n",
        "\n",
        "def remove_URL(text):\n",
        "    url = re.compile(r\"https?://\\S+|www\\.\\S+\")\n",
        "    return url.sub(r\"\", text)\n",
        "\n",
        "def remove_punct(text):\n",
        "    translator = str.maketrans(\"\", \"\", string.punctuation)\n",
        "    return text.translate(translator)\n",
        "\n",
        "string.punctuation"
      ],
      "metadata": {
        "colab": {
          "base_uri": "https://localhost:8080/"
        },
        "id": "ibj1kfIhT1eb",
        "outputId": "bf3e8d56-1b36-4e1a-9e2e-6f2216f8797c"
      },
      "execution_count": null,
      "outputs": [
        {
          "output_type": "execute_result",
          "data": {
            "text/plain": [
              "'!\"#$%&\\'()*+,-./:;<=>?@[\\\\]^_`{|}~'"
            ]
          },
          "metadata": {},
          "execution_count": 25
        }
      ]
    },
    {
      "cell_type": "code",
      "source": [
        "df[\"text\"] = df.text.map(remove_URL)\n",
        "df[\"text\"] = df.text.map(remove_punct)"
      ],
      "metadata": {
        "id": "eSB_ArCcOMZq"
      },
      "execution_count": null,
      "outputs": []
    },
    {
      "cell_type": "code",
      "source": [
        "type(df[\"text\"])"
      ],
      "metadata": {
        "id": "V2ek2xM5qPD8",
        "outputId": "cc37e964-76cc-4943-d022-56d00de27587",
        "colab": {
          "base_uri": "https://localhost:8080/"
        }
      },
      "execution_count": null,
      "outputs": [
        {
          "output_type": "execute_result",
          "data": {
            "text/plain": [
              "pandas.core.series.Series"
            ]
          },
          "metadata": {},
          "execution_count": 132
        }
      ]
    },
    {
      "cell_type": "markdown",
      "source": [],
      "metadata": {
        "id": "avzd-fACqNBL"
      }
    },
    {
      "cell_type": "code",
      "source": [
        "# remove stopwords\n",
        "!pip install nltk\n",
        "\n"
      ],
      "metadata": {
        "colab": {
          "base_uri": "https://localhost:8080/"
        },
        "id": "p5fHMoHVQFKw",
        "outputId": "a208973c-d1ea-4597-d240-de740adc0cc8"
      },
      "execution_count": null,
      "outputs": [
        {
          "output_type": "stream",
          "name": "stdout",
          "text": [
            "Collecting nltk"
          ]
        },
        {
          "output_type": "stream",
          "name": "stderr",
          "text": [
            "\n",
            "[notice] A new release of pip is available: 23.2.1 -> 23.3\n",
            "[notice] To update, run: python.exe -m pip install --upgrade pip\n"
          ]
        },
        {
          "output_type": "stream",
          "name": "stdout",
          "text": [
            "\n",
            "  Downloading nltk-3.8.1-py3-none-any.whl (1.5 MB)\n",
            "     ---------------------------------------- 0.0/1.5 MB ? eta -:--:--\n",
            "     ----- ---------------------------------- 0.2/1.5 MB 6.9 MB/s eta 0:00:01\n",
            "     ---------- ----------------------------- 0.4/1.5 MB 4.9 MB/s eta 0:00:01\n",
            "     -------------- ------------------------- 0.6/1.5 MB 4.4 MB/s eta 0:00:01\n",
            "     -------------------- ------------------- 0.8/1.5 MB 4.9 MB/s eta 0:00:01\n",
            "     ------------------------- -------------- 1.0/1.5 MB 4.3 MB/s eta 0:00:01\n",
            "     ----------------------------------- ---- 1.3/1.5 MB 5.0 MB/s eta 0:00:01\n",
            "     ---------------------------------------- 1.5/1.5 MB 5.1 MB/s eta 0:00:00\n",
            "Collecting click (from nltk)\n",
            "  Obtaining dependency information for click from https://files.pythonhosted.org/packages/00/2e/d53fa4befbf2cfa713304affc7ca780ce4fc1fd8710527771b58311a3229/click-8.1.7-py3-none-any.whl.metadata\n",
            "  Downloading click-8.1.7-py3-none-any.whl.metadata (3.0 kB)\n",
            "Requirement already satisfied: joblib in c:\\program files\\python310\\lib\\site-packages (from nltk) (1.2.0)\n",
            "Collecting regex>=2021.8.3 (from nltk)\n",
            "  Obtaining dependency information for regex>=2021.8.3 from https://files.pythonhosted.org/packages/33/03/91c9509b43154795fb848a4cf8cef5b37302b3b3ccf8a9763046ea528c6b/regex-2023.10.3-cp310-cp310-win_amd64.whl.metadata\n",
            "  Downloading regex-2023.10.3-cp310-cp310-win_amd64.whl.metadata (41 kB)\n",
            "     ---------------------------------------- 0.0/42.0 kB ? eta -:--:--\n",
            "     ---------------------------------------- 42.0/42.0 kB ? eta 0:00:00\n",
            "Requirement already satisfied: tqdm in c:\\users\\muham\\appdata\\roaming\\python\\python310\\site-packages (from nltk) (4.66.1)\n",
            "Requirement already satisfied: colorama in c:\\program files\\python310\\lib\\site-packages (from click->nltk) (0.4.6)\n",
            "Downloading regex-2023.10.3-cp310-cp310-win_amd64.whl (269 kB)\n",
            "   ---------------------------------------- 0.0/269.6 kB ? eta -:--:--\n",
            "   ---------------------------------------- 269.6/269.6 kB 8.4 MB/s eta 0:00:00\n",
            "Downloading click-8.1.7-py3-none-any.whl (97 kB)\n",
            "   ---------------------------------------- 0.0/97.9 kB ? eta -:--:--\n",
            "   ---------------------------------------- 97.9/97.9 kB 5.5 MB/s eta 0:00:00\n",
            "Installing collected packages: regex, click, nltk\n",
            "Successfully installed click-8.1.7 nltk-3.8.1 regex-2023.10.3\n"
          ]
        }
      ]
    },
    {
      "cell_type": "code",
      "source": [
        "import nltk\n",
        "from nltk.corpus import stopwords"
      ],
      "metadata": {
        "id": "GygEbiBTQVpY"
      },
      "execution_count": null,
      "outputs": []
    },
    {
      "cell_type": "code",
      "source": [
        "nltk.download('stopwords')\n",
        "\n",
        "stop = set(stopwords.words(\"english\"))\n",
        "\n",
        "def remove_stopwords(text):\n",
        "  filtered_words = [word.lower() for word in text.split() if word.lower() not in stop]\n",
        "  return \" \".join(filtered_words)\n",
        "\n",
        "df[\"text\"] = df.text.map(remove_stopwords)\n",
        "\n",
        "\n"
      ],
      "metadata": {
        "colab": {
          "base_uri": "https://localhost:8080/"
        },
        "id": "xNFnZMBgQfIt",
        "outputId": "de2f16e0-8c80-45a6-bcc8-4dddbdb0fe39"
      },
      "execution_count": null,
      "outputs": [
        {
          "output_type": "stream",
          "name": "stderr",
          "text": [
            "[nltk_data] Downloading package stopwords to\n",
            "[nltk_data]     C:\\Users\\muham\\AppData\\Roaming\\nltk_data...\n",
            "[nltk_data]   Package stopwords is already up-to-date!\n"
          ]
        }
      ]
    },
    {
      "cell_type": "code",
      "source": [
        "df.text\n"
      ],
      "metadata": {
        "colab": {
          "base_uri": "https://localhost:8080/"
        },
        "id": "3iTuNVzfROl_",
        "outputId": "aa885e6d-24e0-4e29-ab92-566e5ca608db"
      },
      "execution_count": null,
      "outputs": [
        {
          "output_type": "execute_result",
          "data": {
            "text/plain": [
              "0            deeds reason earthquake may allah forgive us\n",
              "1                   forest fire near la ronge sask canada\n",
              "2       residents asked shelter place notified officer...\n",
              "3       13000 people receive wildfires evacuation orde...\n",
              "4       got sent photo ruby alaska smoke wildfires pou...\n",
              "                              ...                        \n",
              "7608    two giant cranes holding bridge collapse nearb...\n",
              "7609    ariaahrary thetawniest control wild fires cali...\n",
              "7610                      m194 0104 utc5km volcano hawaii\n",
              "7611    police investigating ebike collided car little...\n",
              "7612    latest homes razed northern california wildfir...\n",
              "Name: text, Length: 7613, dtype: object"
            ]
          },
          "metadata": {},
          "execution_count": 33
        }
      ]
    },
    {
      "cell_type": "code",
      "source": [
        "#count unique words\n",
        "\n",
        "from collections import Counter\n",
        "\n",
        "def count_word(text_col):\n",
        "  count=Counter()\n",
        "  for text in text_col.values:\n",
        "    for word in text.split():\n",
        "      count[word] +=1\n",
        "  return count\n",
        "\n",
        "counter = count_word(df.text)\n"
      ],
      "metadata": {
        "id": "mJkMo_IkRfoF"
      },
      "execution_count": null,
      "outputs": []
    },
    {
      "cell_type": "code",
      "source": [
        "len(counter)"
      ],
      "metadata": {
        "colab": {
          "base_uri": "https://localhost:8080/"
        },
        "id": "HQWjr9ieSOr8",
        "outputId": "ac9d53c4-cff9-46f9-fa2e-4d1cdfbff6db"
      },
      "execution_count": null,
      "outputs": [
        {
          "output_type": "execute_result",
          "data": {
            "text/plain": [
              "17971"
            ]
          },
          "metadata": {},
          "execution_count": 35
        }
      ]
    },
    {
      "cell_type": "code",
      "source": [
        "counter.most_common(10)"
      ],
      "metadata": {
        "colab": {
          "base_uri": "https://localhost:8080/"
        },
        "id": "bJk1bCBmSSw_",
        "outputId": "7f3fe10c-fbf9-4d7f-dcf7-d6d7a2aad02b"
      },
      "execution_count": null,
      "outputs": [
        {
          "output_type": "execute_result",
          "data": {
            "text/plain": [
              "[('like', 345),\n",
              " ('im', 299),\n",
              " ('amp', 298),\n",
              " ('fire', 250),\n",
              " ('get', 229),\n",
              " ('new', 224),\n",
              " ('via', 220),\n",
              " ('people', 196),\n",
              " ('one', 193),\n",
              " ('news', 193)]"
            ]
          },
          "metadata": {},
          "execution_count": 42
        }
      ]
    },
    {
      "cell_type": "code",
      "source": [
        "num_unique_words = len(counter)"
      ],
      "metadata": {
        "id": "tszFUFYDSloN"
      },
      "execution_count": null,
      "outputs": []
    },
    {
      "cell_type": "code",
      "source": [
        "#split dataset into train and validation set\n",
        "\n",
        "train_size = int(len(df[\"text\"])*0.8)\n",
        "\n",
        "train_df = df[:train_size]\n",
        "val_df = df[train_size:]\n",
        "\n",
        "#split text and labels\n",
        "\n",
        "train_sen = train_df[\"text\"].to_numpy()\n",
        "val_sen = val_df[\"text\"].to_numpy()\n",
        "train_labels = train_df.target.to_numpy()\n",
        "val_labels = val_df.target.to_numpy()"
      ],
      "metadata": {
        "id": "p4_x6zM5Sxfl"
      },
      "execution_count": null,
      "outputs": []
    },
    {
      "cell_type": "code",
      "source": [
        "train_sen.shape, val_sen.shape\n"
      ],
      "metadata": {
        "colab": {
          "base_uri": "https://localhost:8080/"
        },
        "id": "v5VBwBuPY_T8",
        "outputId": "f67076cc-2859-4d11-fbae-149a69b49515"
      },
      "execution_count": null,
      "outputs": [
        {
          "output_type": "execute_result",
          "data": {
            "text/plain": [
              "((6090,), (1523,))"
            ]
          },
          "metadata": {},
          "execution_count": 68
        }
      ]
    },
    {
      "cell_type": "code",
      "source": [
        "#tokenize\n",
        "\n",
        "from tensorflow.keras.preprocessing.text import Tokenizer\n",
        "\n",
        "tokenizer = Tokenizer(num_words = num_unique_words)\n",
        "tokenizer.fit_on_texts(train_sen)"
      ],
      "metadata": {
        "id": "m905ZE16ZxfO"
      },
      "execution_count": null,
      "outputs": []
    },
    {
      "cell_type": "code",
      "source": [
        "word_index = tokenizer.word_index"
      ],
      "metadata": {
        "id": "w01zPsxsaWhQ"
      },
      "execution_count": null,
      "outputs": []
    },
    {
      "cell_type": "code",
      "source": [
        "train_seq = tokenizer.texts_to_sequences(train_sen)\n",
        "val_seq = tokenizer.texts_to_sequences(val_sen)"
      ],
      "metadata": {
        "id": "yUUhN6x1aeGt"
      },
      "execution_count": null,
      "outputs": []
    },
    {
      "cell_type": "code",
      "source": [
        "print(train_sen[:1])\n",
        "print(train_seq[:1])"
      ],
      "metadata": {
        "colab": {
          "base_uri": "https://localhost:8080/"
        },
        "id": "_DIcOlptazZn",
        "outputId": "adfbb5ea-968e-40a0-9fdd-5b7cc383e08c"
      },
      "execution_count": null,
      "outputs": [
        {
          "output_type": "stream",
          "name": "stdout",
          "text": [
            "['deeds reason earthquake may allah forgive us']\n",
            "[[3739, 696, 235, 41, 1282, 3740, 14]]\n"
          ]
        }
      ]
    },
    {
      "cell_type": "code",
      "source": [
        "nrow = len(train_seq)\n",
        "ncol = len(train_seq[2])\n",
        "print(nrow,ncol)"
      ],
      "metadata": {
        "colab": {
          "base_uri": "https://localhost:8080/"
        },
        "id": "LABx4roSdIX0",
        "outputId": "3dddca18-c5ef-49b7-e2ae-65ba79d60adb"
      },
      "execution_count": null,
      "outputs": [
        {
          "output_type": "stream",
          "name": "stdout",
          "text": [
            "6090 11\n"
          ]
        }
      ]
    },
    {
      "cell_type": "code",
      "source": [
        "#longest sequence\n",
        "count0 = 0\n",
        "count = 0\n",
        "\n",
        "for i in range(6090):\n",
        "  count0 = count\n",
        "  count = len(train_seq[i])\n",
        "  count = max(count, count0)\n",
        "print(count)"
      ],
      "metadata": {
        "colab": {
          "base_uri": "https://localhost:8080/"
        },
        "id": "4wb_9Ka8fzD_",
        "outputId": "9c3af887-130e-4657-ed0f-6676416a8045"
      },
      "execution_count": null,
      "outputs": [
        {
          "output_type": "stream",
          "name": "stdout",
          "text": [
            "25\n"
          ]
        }
      ]
    },
    {
      "cell_type": "code",
      "source": [
        "# Pad the sequences to have the same length\n",
        "from tensorflow.keras.preprocessing.sequence import pad_sequences\n",
        "\n",
        "train_padded = pad_sequences(train_seq, maxlen= count, padding = \"post\", truncating = \"post\")\n",
        "val_padded = pad_sequences(val_seq, maxlen= count, padding = \"post\", truncating = \"post\")\n",
        "\n",
        "print(train_padded.shape, val_padded.shape\n",
        ")"
      ],
      "metadata": {
        "colab": {
          "base_uri": "https://localhost:8080/"
        },
        "id": "f4I1FNSJhNs0",
        "outputId": "4d11b5fe-9a6b-4de3-8bf7-fd8ca4c2ed01"
      },
      "execution_count": null,
      "outputs": [
        {
          "output_type": "stream",
          "name": "stdout",
          "text": [
            "(6090, 25) (1523, 25)\n"
          ]
        }
      ]
    },
    {
      "cell_type": "code",
      "source": [
        "print(train_sen[10])\n",
        "print(train_seq[10])\n",
        "print(train_padded[10])"
      ],
      "metadata": {
        "colab": {
          "base_uri": "https://localhost:8080/"
        },
        "id": "DOvvVsxUieCT",
        "outputId": "2fc9cf90-989d-4192-a50b-7018376465e1"
      },
      "execution_count": null,
      "outputs": [
        {
          "output_type": "stream",
          "name": "stdout",
          "text": [
            "three people died heat wave far\n",
            "[520, 8, 395, 156, 297, 411]\n",
            "[520   8 395 156 297 411   0   0   0   0   0   0   0   0   0   0   0   0\n",
            "   0   0   0   0   0   0   0]\n"
          ]
        }
      ]
    },
    {
      "cell_type": "code",
      "source": [
        "#reverse index to map the words to the sequence\n",
        "\n",
        "reverse_word_index = dict([(idx, word) for (word, idx) in word_index.items()])"
      ],
      "metadata": {
        "id": "JrA2AqXNisuW"
      },
      "execution_count": null,
      "outputs": []
    },
    {
      "cell_type": "code",
      "source": [
        "def decode(sequence):\n",
        "  return \" \".join([reverse_word_index.get(idx, \"?\") for idx in sequence])"
      ],
      "metadata": {
        "id": "HV-yrlLDk25x"
      },
      "execution_count": null,
      "outputs": []
    },
    {
      "cell_type": "code",
      "source": [
        "decoded_text = decode(train_seq[10])\n",
        "\n",
        "print(train_seq[10])\n",
        "print(decoded_text)"
      ],
      "metadata": {
        "colab": {
          "base_uri": "https://localhost:8080/"
        },
        "id": "Htcju85ulMu3",
        "outputId": "846ee51a-c42e-4434-ac97-21e89fef36bd"
      },
      "execution_count": null,
      "outputs": [
        {
          "output_type": "stream",
          "name": "stdout",
          "text": [
            "[520, 8, 395, 156, 297, 411]\n",
            "three people died heat wave far\n"
          ]
        }
      ]
    },
    {
      "cell_type": "code",
      "source": [
        "# Create LSTM model\n",
        "from tensorflow.keras import layers\n",
        "\n",
        "# Embedding: https://www.tensorflow.org/tutorials/text/word_embeddings\n",
        "# Turns positive integers (indexes) into dense vectors of fixed size. (other approach could be one-hot-encoding)\n",
        "\n",
        "# Word embeddings give us a way to use an efficient, dense representation in which similar words have\n",
        "# a similar encoding. Importantly, you do not have to specify this encoding by hand. An embedding is a\n",
        "# dense vector of floating point values (the length of the vector is a parameter you specify).\n",
        "\n",
        "model = keras.models.Sequential()\n",
        "model.add(layers.Embedding(num_unique_words, 32, input_length=count))\n",
        "\n",
        "# The layer will take as input an integer matrix of size (batch, input_length),\n",
        "# and the largest integer (i.e. word index) in the input should be no larger than num_words (vocabulary size).\n",
        "# Now model.output_shape is (None, input_length, 32), where `None` is the batch dimension.\n",
        "\n",
        "\n",
        "model.add(layers.LSTM(64, dropout=0.1))\n",
        "model.add(layers.Dense(1, activation=\"sigmoid\"))\n",
        "\n",
        "model.summary()"
      ],
      "metadata": {
        "colab": {
          "base_uri": "https://localhost:8080/"
        },
        "id": "W2lJW2wYlbT_",
        "outputId": "39003ed4-5566-44af-9f21-7340dafb14b9"
      },
      "execution_count": null,
      "outputs": [
        {
          "output_type": "stream",
          "name": "stdout",
          "text": [
            "Model: \"sequential_1\"\n",
            "_________________________________________________________________\n",
            " Layer (type)                Output Shape              Param #   \n",
            "=================================================================\n",
            " embedding_1 (Embedding)     (None, 25, 32)            575072    \n",
            "                                                                 \n",
            " lstm_1 (LSTM)               (None, 64)                24832     \n",
            "                                                                 \n",
            " dense_1 (Dense)             (None, 1)                 65        \n",
            "                                                                 \n",
            "=================================================================\n",
            "Total params: 599,969\n",
            "Trainable params: 599,969\n",
            "Non-trainable params: 0\n",
            "_________________________________________________________________\n"
          ]
        }
      ]
    },
    {
      "cell_type": "code",
      "source": [
        "loss = keras.losses.BinaryCrossentropy(from_logits=False)\n",
        "optim = keras.optimizers.Adam(learning_rate=0.001)\n",
        "metrics = [\"accuracy\"]\n",
        "\n",
        "model.compile(loss=loss, optimizer=optim, metrics=metrics)"
      ],
      "metadata": {
        "id": "A9pC55tjnCib"
      },
      "execution_count": null,
      "outputs": []
    },
    {
      "cell_type": "code",
      "source": [
        "model.fit(train_padded, train_labels, epochs=20, validation_data=(val_padded, val_labels), verbose=2)\n"
      ],
      "metadata": {
        "colab": {
          "base_uri": "https://localhost:8080/"
        },
        "id": "-ysB0LxHnSRg",
        "outputId": "b31b6543-ca75-4cf3-e046-d6deea1592ef"
      },
      "execution_count": null,
      "outputs": [
        {
          "output_type": "stream",
          "name": "stdout",
          "text": [
            "Epoch 1/20\n",
            "191/191 - 3s - loss: 0.5759 - accuracy: 0.6921 - val_loss: 0.4775 - val_accuracy: 0.7827 - 3s/epoch - 16ms/step\n",
            "Epoch 2/20\n",
            "191/191 - 2s - loss: 0.3097 - accuracy: 0.8833 - val_loss: 0.4747 - val_accuracy: 0.7768 - 2s/epoch - 8ms/step\n",
            "Epoch 3/20\n",
            "191/191 - 2s - loss: 0.1732 - accuracy: 0.9438 - val_loss: 0.6780 - val_accuracy: 0.7617 - 2s/epoch - 8ms/step\n",
            "Epoch 4/20\n",
            "191/191 - 2s - loss: 0.1229 - accuracy: 0.9658 - val_loss: 0.6774 - val_accuracy: 0.7551 - 2s/epoch - 8ms/step\n",
            "Epoch 5/20\n",
            "191/191 - 2s - loss: 0.0962 - accuracy: 0.9718 - val_loss: 0.7434 - val_accuracy: 0.7676 - 2s/epoch - 8ms/step\n",
            "Epoch 6/20\n",
            "191/191 - 2s - loss: 0.0838 - accuracy: 0.9770 - val_loss: 0.7729 - val_accuracy: 0.7466 - 2s/epoch - 8ms/step\n",
            "Epoch 7/20\n",
            "191/191 - 2s - loss: 0.0711 - accuracy: 0.9777 - val_loss: 0.8876 - val_accuracy: 0.7708 - 2s/epoch - 9ms/step\n",
            "Epoch 8/20\n",
            "191/191 - 2s - loss: 0.0568 - accuracy: 0.9787 - val_loss: 0.9386 - val_accuracy: 0.7466 - 2s/epoch - 9ms/step\n",
            "Epoch 9/20\n",
            "191/191 - 2s - loss: 0.0498 - accuracy: 0.9783 - val_loss: 1.0868 - val_accuracy: 0.7498 - 2s/epoch - 9ms/step\n",
            "Epoch 10/20\n",
            "191/191 - 2s - loss: 0.0421 - accuracy: 0.9826 - val_loss: 0.9728 - val_accuracy: 0.7485 - 2s/epoch - 9ms/step\n",
            "Epoch 11/20\n",
            "191/191 - 2s - loss: 0.0387 - accuracy: 0.9819 - val_loss: 1.3411 - val_accuracy: 0.7479 - 2s/epoch - 8ms/step\n",
            "Epoch 12/20\n",
            "191/191 - 2s - loss: 0.0418 - accuracy: 0.9811 - val_loss: 1.3207 - val_accuracy: 0.7511 - 2s/epoch - 9ms/step\n",
            "Epoch 13/20\n",
            "191/191 - 2s - loss: 0.0413 - accuracy: 0.9816 - val_loss: 1.1351 - val_accuracy: 0.7406 - 2s/epoch - 8ms/step\n",
            "Epoch 14/20\n",
            "191/191 - 2s - loss: 0.0509 - accuracy: 0.9800 - val_loss: 1.0775 - val_accuracy: 0.7380 - 2s/epoch - 8ms/step\n",
            "Epoch 15/20\n",
            "191/191 - 2s - loss: 0.0408 - accuracy: 0.9816 - val_loss: 1.3800 - val_accuracy: 0.7321 - 2s/epoch - 8ms/step\n",
            "Epoch 16/20\n",
            "191/191 - 2s - loss: 0.0376 - accuracy: 0.9823 - val_loss: 1.1703 - val_accuracy: 0.7466 - 2s/epoch - 8ms/step\n",
            "Epoch 17/20\n",
            "191/191 - 2s - loss: 0.0383 - accuracy: 0.9834 - val_loss: 1.0335 - val_accuracy: 0.7406 - 2s/epoch - 8ms/step\n",
            "Epoch 18/20\n",
            "191/191 - 2s - loss: 0.0386 - accuracy: 0.9831 - val_loss: 1.5197 - val_accuracy: 0.7367 - 2s/epoch - 8ms/step\n",
            "Epoch 19/20\n",
            "191/191 - 2s - loss: 0.0344 - accuracy: 0.9837 - val_loss: 1.5359 - val_accuracy: 0.7459 - 2s/epoch - 8ms/step\n",
            "Epoch 20/20\n",
            "191/191 - 2s - loss: 0.0316 - accuracy: 0.9847 - val_loss: 1.4512 - val_accuracy: 0.7551 - 2s/epoch - 8ms/step\n"
          ]
        },
        {
          "output_type": "execute_result",
          "data": {
            "text/plain": [
              "<keras.callbacks.History at 0x1ec23198580>"
            ]
          },
          "metadata": {},
          "execution_count": 120
        }
      ]
    },
    {
      "cell_type": "code",
      "source": [
        "predictions = model.predict(train_padded)\n",
        "predictions = [1 if p > 0.5 else 0 for p in predictions]"
      ],
      "metadata": {
        "colab": {
          "base_uri": "https://localhost:8080/"
        },
        "id": "0WBw14RAnW6x",
        "outputId": "6bda7830-be49-496c-dbe0-72a68377d0f1"
      },
      "execution_count": null,
      "outputs": [
        {
          "output_type": "stream",
          "name": "stdout",
          "text": [
            "191/191 [==============================] - 1s 2ms/step\n"
          ]
        }
      ]
    },
    {
      "cell_type": "code",
      "source": [
        "val_pred = model.predict(val_padded)\n",
        "val_pred = [1 if p > 0.5 else 0 for p in val_pred]"
      ],
      "metadata": {
        "colab": {
          "base_uri": "https://localhost:8080/"
        },
        "id": "msvr_DrxnkZw",
        "outputId": "fb7ad52f-f9cd-4882-b284-a70e9d12a2b3"
      },
      "execution_count": null,
      "outputs": [
        {
          "output_type": "stream",
          "name": "stdout",
          "text": [
            "48/48 [==============================] - 0s 2ms/step\n"
          ]
        }
      ]
    },
    {
      "cell_type": "code",
      "source": [
        "from sklearn.metrics import accuracy_score\n",
        "\n",
        "accuracy_score(train_labels, predictions)\n",
        "\n"
      ],
      "metadata": {
        "colab": {
          "base_uri": "https://localhost:8080/"
        },
        "id": "9DxkNQIJnsWv",
        "outputId": "5371fe7c-6d37-4dfe-f788-d23a46b680a5"
      },
      "execution_count": null,
      "outputs": [
        {
          "output_type": "execute_result",
          "data": {
            "text/plain": [
              "0.984072249589491"
            ]
          },
          "metadata": {},
          "execution_count": 130
        }
      ]
    },
    {
      "cell_type": "code",
      "source": [
        "accuracy_score(val_labels, val_pred)"
      ],
      "metadata": {
        "colab": {
          "base_uri": "https://localhost:8080/"
        },
        "id": "Q5WU7kNgoUL5",
        "outputId": "7ef4f76a-97b9-496d-ef32-7cc24a0119a4"
      },
      "execution_count": null,
      "outputs": [
        {
          "output_type": "execute_result",
          "data": {
            "text/plain": [
              "0.7550886408404465"
            ]
          },
          "metadata": {},
          "execution_count": 131
        }
      ]
    },
    {
      "cell_type": "code",
      "source": [],
      "metadata": {
        "id": "eVkTwSIVogqb"
      },
      "execution_count": null,
      "outputs": []
    }
  ]
}